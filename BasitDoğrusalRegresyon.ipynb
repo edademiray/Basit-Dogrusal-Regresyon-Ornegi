{
  "nbformat": 4,
  "nbformat_minor": 0,
  "metadata": {
    "colab": {
      "name": "BasitDoğrusalRegresyon.ipynb",
      "provenance": [],
      "collapsed_sections": []
    },
    "kernelspec": {
      "name": "python3",
      "display_name": "Python 3"
    }
  },
  "cells": [
    {
      "cell_type": "markdown",
      "metadata": {
        "id": "-9s1NtrSqsBv"
      },
      "source": [
        "\r\n",
        "\r\n",
        "# **Basit Doğrusal Regresyon Örneği**\r\n",
        "\r\n",
        "---\r\n",
        "\r\n",
        "Bu projemizde reklam harcamalarımız ile satış arasındaki ilişkiyi modelleyeceğiz.\r\n"
      ]
    },
    {
      "cell_type": "code",
      "metadata": {
        "id": "ZThVLChxpuEF",
        "colab": {
          "base_uri": "https://localhost:8080/",
          "height": 197
        },
        "outputId": "e265a264-988a-47e3-ec4c-c5ea5f58fd52"
      },
      "source": [
        "import pandas as pd #pandas kütüphanemizi ,verilerimizi okumak için projemize dahil ediyoruz.\r\n",
        "import numpy as np #Veriler üzerinde işlem yapmamızı sağlayan Numpy kütüphanemizi projemize dahil ediyoruz.\r\n",
        "\r\n",
        "\r\n",
        " df = pd.read_csv(\"/content/Advertising.csv\") #Pandas ile verimizi okuyoruz\r\n",
        " df = df.iloc[:,1:len(df)]\r\n",
        " df.head()"
      ],
      "execution_count": null,
      "outputs": [
        {
          "output_type": "execute_result",
          "data": {
            "text/html": [
              "<div>\n",
              "<style scoped>\n",
              "    .dataframe tbody tr th:only-of-type {\n",
              "        vertical-align: middle;\n",
              "    }\n",
              "\n",
              "    .dataframe tbody tr th {\n",
              "        vertical-align: top;\n",
              "    }\n",
              "\n",
              "    .dataframe thead th {\n",
              "        text-align: right;\n",
              "    }\n",
              "</style>\n",
              "<table border=\"1\" class=\"dataframe\">\n",
              "  <thead>\n",
              "    <tr style=\"text-align: right;\">\n",
              "      <th></th>\n",
              "      <th>TV</th>\n",
              "      <th>radio</th>\n",
              "      <th>newspaper</th>\n",
              "      <th>sales</th>\n",
              "    </tr>\n",
              "  </thead>\n",
              "  <tbody>\n",
              "    <tr>\n",
              "      <th>0</th>\n",
              "      <td>230.1</td>\n",
              "      <td>37.8</td>\n",
              "      <td>69.2</td>\n",
              "      <td>22.1</td>\n",
              "    </tr>\n",
              "    <tr>\n",
              "      <th>1</th>\n",
              "      <td>44.5</td>\n",
              "      <td>39.3</td>\n",
              "      <td>45.1</td>\n",
              "      <td>10.4</td>\n",
              "    </tr>\n",
              "    <tr>\n",
              "      <th>2</th>\n",
              "      <td>17.2</td>\n",
              "      <td>45.9</td>\n",
              "      <td>69.3</td>\n",
              "      <td>9.3</td>\n",
              "    </tr>\n",
              "    <tr>\n",
              "      <th>3</th>\n",
              "      <td>151.5</td>\n",
              "      <td>41.3</td>\n",
              "      <td>58.5</td>\n",
              "      <td>18.5</td>\n",
              "    </tr>\n",
              "    <tr>\n",
              "      <th>4</th>\n",
              "      <td>180.8</td>\n",
              "      <td>10.8</td>\n",
              "      <td>58.4</td>\n",
              "      <td>12.9</td>\n",
              "    </tr>\n",
              "  </tbody>\n",
              "</table>\n",
              "</div>"
            ],
            "text/plain": [
              "      TV  radio  newspaper  sales\n",
              "0  230.1   37.8       69.2   22.1\n",
              "1   44.5   39.3       45.1   10.4\n",
              "2   17.2   45.9       69.3    9.3\n",
              "3  151.5   41.3       58.5   18.5\n",
              "4  180.8   10.8       58.4   12.9"
            ]
          },
          "metadata": {
            "tags": []
          },
          "execution_count": 77
        }
      ]
    },
    {
      "cell_type": "code",
      "metadata": {
        "colab": {
          "base_uri": "https://localhost:8080/"
        },
        "id": "6gcB2hhlp7Ud",
        "outputId": "52484b6c-17fd-44e5-dbff-c1bbdd9b29fd"
      },
      "source": [
        "df.info()"
      ],
      "execution_count": null,
      "outputs": [
        {
          "output_type": "stream",
          "text": [
            "<class 'pandas.core.frame.DataFrame'>\n",
            "RangeIndex: 200 entries, 0 to 199\n",
            "Data columns (total 4 columns):\n",
            " #   Column     Non-Null Count  Dtype  \n",
            "---  ------     --------------  -----  \n",
            " 0   TV         200 non-null    float64\n",
            " 1   radio      200 non-null    float64\n",
            " 2   newspaper  200 non-null    float64\n",
            " 3   sales      200 non-null    float64\n",
            "dtypes: float64(4)\n",
            "memory usage: 6.4 KB\n"
          ],
          "name": "stdout"
        }
      ]
    },
    {
      "cell_type": "code",
      "metadata": {
        "colab": {
          "base_uri": "https://localhost:8080/",
          "height": 441
        },
        "id": "YvkdSHKnp7XR",
        "outputId": "e52e97c6-83a6-4771-8f5b-4d357842d8bf"
      },
      "source": [
        "import  seaborn as sns\r\n",
        "sns.jointplot(x=\"TV\",y=\"sales\",data=df,kind=\"reg\"); #Her tv reklamı verildiği zaman ki satışlarımıza bakıyoruz"
      ],
      "execution_count": null,
      "outputs": [
        {
          "output_type": "display_data",
          "data": {
            "image/png": "[encoded data removed]",
            "text/plain": [
              "<Figure size 432x432 with 3 Axes>"
            ]
          },
          "metadata": {
            "tags": [],
            "needs_background": "light"
          }
        }
      ]
    },
    {
      "cell_type": "markdown",
      "metadata": {
        "id": "vGQ34J8T0TXb"
      },
      "source": [
        "# **Model Kurmak**\r\n",
        "Burada Sklearn kütüphanemizi kullanarak modelimizi oluşturuyoruz."
      ]
    },
    {
      "cell_type": "code",
      "metadata": {
        "id": "5wmnFxZLp7Zg"
      },
      "source": [
        "from sklearn.linear_model import LinearRegression #liner regresyon fonksiyonunu dahil ediyoruz."
      ],
      "execution_count": null,
      "outputs": []
    },
    {
      "cell_type": "code",
      "metadata": {
        "id": "ef2XfHSwp7cH"
      },
      "source": [
        "X=df[[\"TV\"]] #Bağımsız değişkenimiz"
      ],
      "execution_count": null,
      "outputs": []
    },
    {
      "cell_type": "code",
      "metadata": {
        "id": "ZRSLpGPvtFCo"
      },
      "source": [
        "y=df[[\"sales\"]]#Bağımlı değişkenimiz"
      ],
      "execution_count": null,
      "outputs": []
    },
    {
      "cell_type": "code",
      "metadata": {
        "id": "dI8AydJotFFj"
      },
      "source": [
        "reg=LinearRegression() #Model nesnesi oluşturuyoruz."
      ],
      "execution_count": null,
      "outputs": []
    },
    {
      "cell_type": "code",
      "metadata": {
        "id": "DDnX3KMatFIn"
      },
      "source": [
        "model=reg.fit(X,y) #Bağımsız ve bağımlı değişkenimiz ile modelimizi fit ettik (Kurduk)."
      ],
      "execution_count": null,
      "outputs": []
    },
    {
      "cell_type": "code",
      "metadata": {
        "colab": {
          "base_uri": "https://localhost:8080/"
        },
        "id": "ao8Plq-fu-X7",
        "outputId": "09266504-c059-4fd5-9c81-df4d05de0848"
      },
      "source": [
        "model"
      ],
      "execution_count": null,
      "outputs": [
        {
          "output_type": "execute_result",
          "data": {
            "text/plain": [
              "LinearRegression(copy_X=True, fit_intercept=True, n_jobs=None, normalize=False)"
            ]
          },
          "metadata": {
            "tags": []
          },
          "execution_count": 85
        }
      ]
    },
    {
      "cell_type": "code",
      "metadata": {
        "colab": {
          "base_uri": "https://localhost:8080/",
          "height": 35
        },
        "id": "iGJLGh6gvKMI",
        "outputId": "29b2c55c-4bd4-4c42-e023-0bb78f46e4fd"
      },
      "source": [
        "str(model)"
      ],
      "execution_count": null,
      "outputs": [
        {
          "output_type": "execute_result",
          "data": {
            "application/vnd.google.colaboratory.intrinsic+json": {
              "type": "string"
            },
            "text/plain": [
              "'LinearRegression(copy_X=True, fit_intercept=True, n_jobs=None, normalize=False)'"
            ]
          },
          "metadata": {
            "tags": []
          },
          "execution_count": 86
        }
      ]
    },
    {
      "cell_type": "code",
      "metadata": {
        "id": "lKhsE4oDvOGr",
        "colab": {
          "base_uri": "https://localhost:8080/"
        },
        "outputId": "6f3d2c5f-96a1-4392-dae9-7807b4dadb0a"
      },
      "source": [
        "dir(model) #burada modelimiz içinden alabileceğimiz değerleri görüyoruz.Biz b0 sabiti için intercept'i  ve b1 katsayısı için coef'i çekiceğiz."
      ],
      "execution_count": null,
      "outputs": [
        {
          "output_type": "execute_result",
          "data": {
            "text/plain": [
              "['__abstractmethods__',\n",
              " '__class__',\n",
              " '__delattr__',\n",
              " '__dict__',\n",
              " '__dir__',\n",
              " '__doc__',\n",
              " '__eq__',\n",
              " '__format__',\n",
              " '__ge__',\n",
              " '__getattribute__',\n",
              " '__getstate__',\n",
              " '__gt__',\n",
              " '__hash__',\n",
              " '__init__',\n",
              " '__init_subclass__',\n",
              " '__le__',\n",
              " '__lt__',\n",
              " '__module__',\n",
              " '__ne__',\n",
              " '__new__',\n",
              " '__reduce__',\n",
              " '__reduce_ex__',\n",
              " '__repr__',\n",
              " '__setattr__',\n",
              " '__setstate__',\n",
              " '__sizeof__',\n",
              " '__str__',\n",
              " '__subclasshook__',\n",
              " '__weakref__',\n",
              " '_abc_cache',\n",
              " '_abc_negative_cache',\n",
              " '_abc_negative_cache_version',\n",
              " '_abc_registry',\n",
              " '_decision_function',\n",
              " '_estimator_type',\n",
              " '_get_param_names',\n",
              " '_get_tags',\n",
              " '_more_tags',\n",
              " '_preprocess_data',\n",
              " '_residues',\n",
              " '_set_intercept',\n",
              " 'coef_',\n",
              " 'copy_X',\n",
              " 'fit',\n",
              " 'fit_intercept',\n",
              " 'get_params',\n",
              " 'intercept_',\n",
              " 'n_jobs',\n",
              " 'normalize',\n",
              " 'predict',\n",
              " 'rank_',\n",
              " 'score',\n",
              " 'set_params',\n",
              " 'singular_']"
            ]
          },
          "metadata": {
            "tags": []
          },
          "execution_count": 87
        }
      ]
    },
    {
      "cell_type": "code",
      "metadata": {
        "colab": {
          "base_uri": "https://localhost:8080/"
        },
        "id": "ZuLAyqZ-vPiu",
        "outputId": "5bc9a571-5a07-44ae-863b-5f94079356f4"
      },
      "source": [
        "model.intercept_"
      ],
      "execution_count": null,
      "outputs": [
        {
          "output_type": "execute_result",
          "data": {
            "text/plain": [
              "array([7.03259355])"
            ]
          },
          "metadata": {
            "tags": []
          },
          "execution_count": 88
        }
      ]
    },
    {
      "cell_type": "code",
      "metadata": {
        "colab": {
          "base_uri": "https://localhost:8080/"
        },
        "id": "IUfoIZ-HwA6D",
        "outputId": "9f5f43ae-0c0d-4549-8be1-4010bb4e9309"
      },
      "source": [
        "model.coef_"
      ],
      "execution_count": null,
      "outputs": [
        {
          "output_type": "execute_result",
          "data": {
            "text/plain": [
              "array([[0.04753664]])"
            ]
          },
          "metadata": {
            "tags": []
          },
          "execution_count": 89
        }
      ]
    },
    {
      "cell_type": "markdown",
      "metadata": {
        "id": "LMPY21NvxH-y"
      },
      "source": [
        "\r\n",
        ">R^2 (Rkare) Model skoru belirleme:\r\n",
        "\r\n",
        "B bağımlı değişken deki değişikliğin, bağımsız değişkenlerce açıklanma yüzdesidir.\r\n",
        "farklı bir değişle elimizde ki bağımsız değişkenleri kullandığımızda ,bağımlı değişkende ki değişim yüzde kaçını açıklayabiliyoruz ?\r\n",
        "Bu örnekte satışlardaki değişiklik yaklaşık %60'ı  bağımsız değişkence açıklanmaktadır."
      ]
    },
    {
      "cell_type": "code",
      "metadata": {
        "colab": {
          "base_uri": "https://localhost:8080/"
        },
        "id": "IxDzIzp_wCxn",
        "outputId": "d55ea631-d003-45c3-8c20-6d52a1bd82a7"
      },
      "source": [
        "#Rkare değerini öğrenme\r\n",
        "model.score(X,y)"
      ],
      "execution_count": null,
      "outputs": [
        {
          "output_type": "execute_result",
          "data": {
            "text/plain": [
              "0.611875050850071"
            ]
          },
          "metadata": {
            "tags": []
          },
          "execution_count": 90
        }
      ]
    },
    {
      "cell_type": "markdown",
      "metadata": {
        "id": "UXC1iDgP3pIJ"
      },
      "source": [
        "\r\n",
        "---\r\n",
        "# **Model İle Tahmin Üretme** \r\n",
        "\r\n",
        "Sklearn kütüphanesi ile tahminlerde bulunucağız.Burada yapıcagımız regresyonda daha cok modelimizin skorunu yükseltmek amacı ile yapıyor olacağız.\r\n",
        "\r\n"
      ]
    },
    {
      "cell_type": "code",
      "metadata": {
        "colab": {
          "base_uri": "https://localhost:8080/",
          "height": 350
        },
        "id": "XKGsbANo8N3J",
        "outputId": "30529dd2-56d5-4344-fc02-63f85ffe6dd0"
      },
      "source": [
        "#regresyon için görselleştirme yapıyoruz\r\n",
        "import seaborn as sns\r\n",
        "import matplotlib.pyplot as plt\r\n",
        "g = sns.regplot(df[\"TV\"],df[\"sales\"],ci=None ,scatter_kws={'color':'r','s':9} )  #Tv ve sales değişkenlerini kullanıyoruz.Güven aralığı koymuyoruz.\r\n",
        "g.set_title(\"Model Denklemi: Sales = 7.03 + TV * 0.05\") #grafik başlığı\r\n",
        "g.set_ylabel(\"Satış sayısı\")\r\n",
        "g.set_xlabel(\"TV Harcamaları\")\r\n",
        "plt.xlim(-10,310) #limitlerini beliliyoruz\r\n",
        "plt.ylim(bottom=0);"
      ],
      "execution_count": null,
      "outputs": [
        {
          "output_type": "stream",
          "text": [
            "/usr/local/lib/python3.6/dist-packages/seaborn/_decorators.py:43: FutureWarning: Pass the following variables as keyword args: x, y. From version 0.12, the only valid positional argument will be `data`, and passing other arguments without an explicit keyword will result in an error or misinterpretation.\n",
            "  FutureWarning\n"
          ],
          "name": "stderr"
        },
        {
          "output_type": "display_data",
          "data": {
            "image/png": "[encoded data removed]",
            "text/plain": [
              "<Figure size 432x288 with 1 Axes>"
            ]
          },
          "metadata": {
            "tags": [],
            "needs_background": "light"
          }
        }
      ]
    },
    {
      "cell_type": "markdown",
      "metadata": {
        "id": "en9nBKw0fZz_"
      },
      "source": [
        "Burada görmüş olduğumuz grafikte kırmızılar gerçek satış değerlerini , mavi doğru ise bizim noktalar üzerinden oluşturduğumuz modelin denklemi ifade ediyor."
      ]
    },
    {
      "cell_type": "markdown",
      "metadata": {
        "id": "E1STuCfHcpDl"
      },
      "source": [
        "Sales = 7.03 + 0.04*TV\r\n",
        "\r\n"
      ]
    },
    {
      "cell_type": "code",
      "metadata": {
        "colab": {
          "base_uri": "https://localhost:8080/"
        },
        "id": "6AFS28bU_qys",
        "outputId": "32f6ef44-2734-4f63-eeec-c19dfe9009a6"
      },
      "source": [
        "model.predict([[165]]) #Burada oluşturduğumuz model üzerinden tahmin etme işlemi gerçekleştiriyoruz."
      ],
      "execution_count": null,
      "outputs": [
        {
          "output_type": "execute_result",
          "data": {
            "text/plain": [
              "array([[14.87613922]])"
            ]
          },
          "metadata": {
            "tags": []
          },
          "execution_count": 93
        }
      ]
    },
    {
      "cell_type": "code",
      "metadata": {
        "id": "F4KI_Pbn_q2j"
      },
      "source": [
        "yeni_veri=[[5],[15],[30]] #birden fazla işlem girmek istediğimizde"
      ],
      "execution_count": null,
      "outputs": []
    },
    {
      "cell_type": "code",
      "metadata": {
        "colab": {
          "base_uri": "https://localhost:8080/"
        },
        "id": "EDeu6NvTdb9T",
        "outputId": "04493b64-0adb-43db-a00b-9953886eac5d"
      },
      "source": [
        "model.predict(yeni_veri)"
      ],
      "execution_count": null,
      "outputs": [
        {
          "output_type": "execute_result",
          "data": {
            "text/plain": [
              "array([[7.27027675],\n",
              "       [7.74564316],\n",
              "       [8.45869276]])"
            ]
          },
          "metadata": {
            "tags": []
          },
          "execution_count": 95
        }
      ]
    },
    {
      "cell_type": "markdown",
      "metadata": {
        "id": "aFZkv1dehaLo"
      },
      "source": [
        "# **Artıklar Ve Makine Öğrenmesinde ki Önemi** "
      ]
    },
    {
      "cell_type": "code",
      "metadata": {
        "colab": {
          "base_uri": "https://localhost:8080/",
          "height": 347
        },
        "id": "t6SQTmKqdgdE",
        "outputId": "69a8dbf8-fc98-4856-ff62-30fde9145261"
      },
      "source": [
        "y.head(10) #Burada satışların gerçek değerlerini görüyoruz.Bağımlı değkenin değerlerini görüyoruz."
      ],
      "execution_count": null,
      "outputs": [
        {
          "output_type": "execute_result",
          "data": {
            "text/html": [
              "<div>\n",
              "<style scoped>\n",
              "    .dataframe tbody tr th:only-of-type {\n",
              "        vertical-align: middle;\n",
              "    }\n",
              "\n",
              "    .dataframe tbody tr th {\n",
              "        vertical-align: top;\n",
              "    }\n",
              "\n",
              "    .dataframe thead th {\n",
              "        text-align: right;\n",
              "    }\n",
              "</style>\n",
              "<table border=\"1\" class=\"dataframe\">\n",
              "  <thead>\n",
              "    <tr style=\"text-align: right;\">\n",
              "      <th></th>\n",
              "      <th>sales</th>\n",
              "    </tr>\n",
              "  </thead>\n",
              "  <tbody>\n",
              "    <tr>\n",
              "      <th>0</th>\n",
              "      <td>22.1</td>\n",
              "    </tr>\n",
              "    <tr>\n",
              "      <th>1</th>\n",
              "      <td>10.4</td>\n",
              "    </tr>\n",
              "    <tr>\n",
              "      <th>2</th>\n",
              "      <td>9.3</td>\n",
              "    </tr>\n",
              "    <tr>\n",
              "      <th>3</th>\n",
              "      <td>18.5</td>\n",
              "    </tr>\n",
              "    <tr>\n",
              "      <th>4</th>\n",
              "      <td>12.9</td>\n",
              "    </tr>\n",
              "    <tr>\n",
              "      <th>5</th>\n",
              "      <td>7.2</td>\n",
              "    </tr>\n",
              "    <tr>\n",
              "      <th>6</th>\n",
              "      <td>11.8</td>\n",
              "    </tr>\n",
              "    <tr>\n",
              "      <th>7</th>\n",
              "      <td>13.2</td>\n",
              "    </tr>\n",
              "    <tr>\n",
              "      <th>8</th>\n",
              "      <td>4.8</td>\n",
              "    </tr>\n",
              "    <tr>\n",
              "      <th>9</th>\n",
              "      <td>10.6</td>\n",
              "    </tr>\n",
              "  </tbody>\n",
              "</table>\n",
              "</div>"
            ],
            "text/plain": [
              "   sales\n",
              "0   22.1\n",
              "1   10.4\n",
              "2    9.3\n",
              "3   18.5\n",
              "4   12.9\n",
              "5    7.2\n",
              "6   11.8\n",
              "7   13.2\n",
              "8    4.8\n",
              "9   10.6"
            ]
          },
          "metadata": {
            "tags": []
          },
          "execution_count": 96
        }
      ]
    },
    {
      "cell_type": "code",
      "metadata": {
        "colab": {
          "base_uri": "https://localhost:8080/"
        },
        "id": "FicfcqqghpXF",
        "outputId": "d34ebe69-f4e3-4561-8058-1de59c34b4ce"
      },
      "source": [
        "model.predict(X)[0:6] #Burada tv harcamalarını(X) kullanarak satışlarımızı tahmin ediyoruz."
      ],
      "execution_count": null,
      "outputs": [
        {
          "output_type": "execute_result",
          "data": {
            "text/plain": [
              "array([[17.97077451],\n",
              "       [ 9.14797405],\n",
              "       [ 7.85022376],\n",
              "       [14.23439457],\n",
              "       [15.62721814],\n",
              "       [ 7.44616232]])"
            ]
          },
          "metadata": {
            "tags": []
          },
          "execution_count": 97
        }
      ]
    },
    {
      "cell_type": "code",
      "metadata": {
        "id": "LWHcjxzEhu24"
      },
      "source": [
        "gercek_y=y[0:10] #Yden 10 tane değer alıyoruz."
      ],
      "execution_count": null,
      "outputs": []
    },
    {
      "cell_type": "code",
      "metadata": {
        "id": "enfCWHv_S7bW"
      },
      "source": [
        "tahmin_edilen_y=pd.DataFrame(model.predict(X)[0:10]) #tahmin ettiğimiz değerlerden 10 tane değer alıyoruz"
      ],
      "execution_count": null,
      "outputs": []
    },
    {
      "cell_type": "code",
      "metadata": {
        "id": "wZoQqjxQTSaQ"
      },
      "source": [
        "hatalar=pd.concat([gercek_y,tahmin_edilen_y],axis=1) #tahmin edilen y ile gerçek y'yi tek bir framede toplayıp,hatalarımızı görüyoruz."
      ],
      "execution_count": null,
      "outputs": []
    },
    {
      "cell_type": "code",
      "metadata": {
        "id": "VvxMHFdOT69m"
      },
      "source": [
        "hatalar.columns=[\"gercek_y\",\"tahmin_edilen_y\"]"
      ],
      "execution_count": null,
      "outputs": []
    },
    {
      "cell_type": "code",
      "metadata": {
        "colab": {
          "base_uri": "https://localhost:8080/",
          "height": 347
        },
        "id": "4TUNk2zqT8tD",
        "outputId": "d80d4787-88ec-41b5-dc2c-75c95b949543"
      },
      "source": [
        "hatalar"
      ],
      "execution_count": null,
      "outputs": [
        {
          "output_type": "execute_result",
          "data": {
            "text/html": [
              "<div>\n",
              "<style scoped>\n",
              "    .dataframe tbody tr th:only-of-type {\n",
              "        vertical-align: middle;\n",
              "    }\n",
              "\n",
              "    .dataframe tbody tr th {\n",
              "        vertical-align: top;\n",
              "    }\n",
              "\n",
              "    .dataframe thead th {\n",
              "        text-align: right;\n",
              "    }\n",
              "</style>\n",
              "<table border=\"1\" class=\"dataframe\">\n",
              "  <thead>\n",
              "    <tr style=\"text-align: right;\">\n",
              "      <th></th>\n",
              "      <th>gercek_y</th>\n",
              "      <th>tahmin_edilen_y</th>\n",
              "    </tr>\n",
              "  </thead>\n",
              "  <tbody>\n",
              "    <tr>\n",
              "      <th>0</th>\n",
              "      <td>22.1</td>\n",
              "      <td>17.970775</td>\n",
              "    </tr>\n",
              "    <tr>\n",
              "      <th>1</th>\n",
              "      <td>10.4</td>\n",
              "      <td>9.147974</td>\n",
              "    </tr>\n",
              "    <tr>\n",
              "      <th>2</th>\n",
              "      <td>9.3</td>\n",
              "      <td>7.850224</td>\n",
              "    </tr>\n",
              "    <tr>\n",
              "      <th>3</th>\n",
              "      <td>18.5</td>\n",
              "      <td>14.234395</td>\n",
              "    </tr>\n",
              "    <tr>\n",
              "      <th>4</th>\n",
              "      <td>12.9</td>\n",
              "      <td>15.627218</td>\n",
              "    </tr>\n",
              "    <tr>\n",
              "      <th>5</th>\n",
              "      <td>7.2</td>\n",
              "      <td>7.446162</td>\n",
              "    </tr>\n",
              "    <tr>\n",
              "      <th>6</th>\n",
              "      <td>11.8</td>\n",
              "      <td>9.765950</td>\n",
              "    </tr>\n",
              "    <tr>\n",
              "      <th>7</th>\n",
              "      <td>13.2</td>\n",
              "      <td>12.746498</td>\n",
              "    </tr>\n",
              "    <tr>\n",
              "      <th>8</th>\n",
              "      <td>4.8</td>\n",
              "      <td>7.441409</td>\n",
              "    </tr>\n",
              "    <tr>\n",
              "      <th>9</th>\n",
              "      <td>10.6</td>\n",
              "      <td>16.530414</td>\n",
              "    </tr>\n",
              "  </tbody>\n",
              "</table>\n",
              "</div>"
            ],
            "text/plain": [
              "   gercek_y  tahmin_edilen_y\n",
              "0      22.1        17.970775\n",
              "1      10.4         9.147974\n",
              "2       9.3         7.850224\n",
              "3      18.5        14.234395\n",
              "4      12.9        15.627218\n",
              "5       7.2         7.446162\n",
              "6      11.8         9.765950\n",
              "7      13.2        12.746498\n",
              "8       4.8         7.441409\n",
              "9      10.6        16.530414"
            ]
          },
          "metadata": {
            "tags": []
          },
          "execution_count": 102
        }
      ]
    },
    {
      "cell_type": "code",
      "metadata": {
        "id": "jA-PXQlEUr4H"
      },
      "source": [
        "hatalar[\"hata\"]=hatalar[\"gercek_y\"]-hatalar[\"tahmin_edilen_y\"] #Hataları görebilmek için gerçek değerlerden çıkarıyoruz"
      ],
      "execution_count": null,
      "outputs": []
    },
    {
      "cell_type": "code",
      "metadata": {
        "colab": {
          "base_uri": "https://localhost:8080/",
          "height": 347
        },
        "id": "Cy1H8hkepKFG",
        "outputId": "718441c1-93a9-4c82-88a6-27edf7f2b842"
      },
      "source": [
        "hatalar"
      ],
      "execution_count": null,
      "outputs": [
        {
          "output_type": "execute_result",
          "data": {
            "text/html": [
              "<div>\n",
              "<style scoped>\n",
              "    .dataframe tbody tr th:only-of-type {\n",
              "        vertical-align: middle;\n",
              "    }\n",
              "\n",
              "    .dataframe tbody tr th {\n",
              "        vertical-align: top;\n",
              "    }\n",
              "\n",
              "    .dataframe thead th {\n",
              "        text-align: right;\n",
              "    }\n",
              "</style>\n",
              "<table border=\"1\" class=\"dataframe\">\n",
              "  <thead>\n",
              "    <tr style=\"text-align: right;\">\n",
              "      <th></th>\n",
              "      <th>gercek_y</th>\n",
              "      <th>tahmin_edilen_y</th>\n",
              "      <th>hata</th>\n",
              "    </tr>\n",
              "  </thead>\n",
              "  <tbody>\n",
              "    <tr>\n",
              "      <th>0</th>\n",
              "      <td>22.1</td>\n",
              "      <td>17.970775</td>\n",
              "      <td>4.129225</td>\n",
              "    </tr>\n",
              "    <tr>\n",
              "      <th>1</th>\n",
              "      <td>10.4</td>\n",
              "      <td>9.147974</td>\n",
              "      <td>1.252026</td>\n",
              "    </tr>\n",
              "    <tr>\n",
              "      <th>2</th>\n",
              "      <td>9.3</td>\n",
              "      <td>7.850224</td>\n",
              "      <td>1.449776</td>\n",
              "    </tr>\n",
              "    <tr>\n",
              "      <th>3</th>\n",
              "      <td>18.5</td>\n",
              "      <td>14.234395</td>\n",
              "      <td>4.265605</td>\n",
              "    </tr>\n",
              "    <tr>\n",
              "      <th>4</th>\n",
              "      <td>12.9</td>\n",
              "      <td>15.627218</td>\n",
              "      <td>-2.727218</td>\n",
              "    </tr>\n",
              "    <tr>\n",
              "      <th>5</th>\n",
              "      <td>7.2</td>\n",
              "      <td>7.446162</td>\n",
              "      <td>-0.246162</td>\n",
              "    </tr>\n",
              "    <tr>\n",
              "      <th>6</th>\n",
              "      <td>11.8</td>\n",
              "      <td>9.765950</td>\n",
              "      <td>2.034050</td>\n",
              "    </tr>\n",
              "    <tr>\n",
              "      <th>7</th>\n",
              "      <td>13.2</td>\n",
              "      <td>12.746498</td>\n",
              "      <td>0.453502</td>\n",
              "    </tr>\n",
              "    <tr>\n",
              "      <th>8</th>\n",
              "      <td>4.8</td>\n",
              "      <td>7.441409</td>\n",
              "      <td>-2.641409</td>\n",
              "    </tr>\n",
              "    <tr>\n",
              "      <th>9</th>\n",
              "      <td>10.6</td>\n",
              "      <td>16.530414</td>\n",
              "      <td>-5.930414</td>\n",
              "    </tr>\n",
              "  </tbody>\n",
              "</table>\n",
              "</div>"
            ],
            "text/plain": [
              "   gercek_y  tahmin_edilen_y      hata\n",
              "0      22.1        17.970775  4.129225\n",
              "1      10.4         9.147974  1.252026\n",
              "2       9.3         7.850224  1.449776\n",
              "3      18.5        14.234395  4.265605\n",
              "4      12.9        15.627218 -2.727218\n",
              "5       7.2         7.446162 -0.246162\n",
              "6      11.8         9.765950  2.034050\n",
              "7      13.2        12.746498  0.453502\n",
              "8       4.8         7.441409 -2.641409\n",
              "9      10.6        16.530414 -5.930414"
            ]
          },
          "metadata": {
            "tags": []
          },
          "execution_count": 104
        }
      ]
    },
    {
      "cell_type": "code",
      "metadata": {
        "id": "KPwZ24xHphWW"
      },
      "source": [
        "#ortalama bir hata bulmak için mse(Hata Kareler Ortalamasını)hesaplıyoruz. \r\n",
        "hatalar[\"hata_kareleri\"]=hatalar[\"hata\"]**2"
      ],
      "execution_count": null,
      "outputs": []
    },
    {
      "cell_type": "code",
      "metadata": {
        "colab": {
          "base_uri": "https://localhost:8080/",
          "height": 347
        },
        "id": "VIvUuif9p9TW",
        "outputId": "a6eedacd-ca44-4efb-b3bc-24688a11b1b7"
      },
      "source": [
        "\r\n",
        "hatalar\r\n"
      ],
      "execution_count": null,
      "outputs": [
        {
          "output_type": "execute_result",
          "data": {
            "text/html": [
              "<div>\n",
              "<style scoped>\n",
              "    .dataframe tbody tr th:only-of-type {\n",
              "        vertical-align: middle;\n",
              "    }\n",
              "\n",
              "    .dataframe tbody tr th {\n",
              "        vertical-align: top;\n",
              "    }\n",
              "\n",
              "    .dataframe thead th {\n",
              "        text-align: right;\n",
              "    }\n",
              "</style>\n",
              "<table border=\"1\" class=\"dataframe\">\n",
              "  <thead>\n",
              "    <tr style=\"text-align: right;\">\n",
              "      <th></th>\n",
              "      <th>gercek_y</th>\n",
              "      <th>tahmin_edilen_y</th>\n",
              "      <th>hata</th>\n",
              "      <th>hata_kareleri</th>\n",
              "    </tr>\n",
              "  </thead>\n",
              "  <tbody>\n",
              "    <tr>\n",
              "      <th>0</th>\n",
              "      <td>22.1</td>\n",
              "      <td>17.970775</td>\n",
              "      <td>4.129225</td>\n",
              "      <td>17.050503</td>\n",
              "    </tr>\n",
              "    <tr>\n",
              "      <th>1</th>\n",
              "      <td>10.4</td>\n",
              "      <td>9.147974</td>\n",
              "      <td>1.252026</td>\n",
              "      <td>1.567569</td>\n",
              "    </tr>\n",
              "    <tr>\n",
              "      <th>2</th>\n",
              "      <td>9.3</td>\n",
              "      <td>7.850224</td>\n",
              "      <td>1.449776</td>\n",
              "      <td>2.101851</td>\n",
              "    </tr>\n",
              "    <tr>\n",
              "      <th>3</th>\n",
              "      <td>18.5</td>\n",
              "      <td>14.234395</td>\n",
              "      <td>4.265605</td>\n",
              "      <td>18.195390</td>\n",
              "    </tr>\n",
              "    <tr>\n",
              "      <th>4</th>\n",
              "      <td>12.9</td>\n",
              "      <td>15.627218</td>\n",
              "      <td>-2.727218</td>\n",
              "      <td>7.437719</td>\n",
              "    </tr>\n",
              "    <tr>\n",
              "      <th>5</th>\n",
              "      <td>7.2</td>\n",
              "      <td>7.446162</td>\n",
              "      <td>-0.246162</td>\n",
              "      <td>0.060596</td>\n",
              "    </tr>\n",
              "    <tr>\n",
              "      <th>6</th>\n",
              "      <td>11.8</td>\n",
              "      <td>9.765950</td>\n",
              "      <td>2.034050</td>\n",
              "      <td>4.137358</td>\n",
              "    </tr>\n",
              "    <tr>\n",
              "      <th>7</th>\n",
              "      <td>13.2</td>\n",
              "      <td>12.746498</td>\n",
              "      <td>0.453502</td>\n",
              "      <td>0.205664</td>\n",
              "    </tr>\n",
              "    <tr>\n",
              "      <th>8</th>\n",
              "      <td>4.8</td>\n",
              "      <td>7.441409</td>\n",
              "      <td>-2.641409</td>\n",
              "      <td>6.977040</td>\n",
              "    </tr>\n",
              "    <tr>\n",
              "      <th>9</th>\n",
              "      <td>10.6</td>\n",
              "      <td>16.530414</td>\n",
              "      <td>-5.930414</td>\n",
              "      <td>35.169814</td>\n",
              "    </tr>\n",
              "  </tbody>\n",
              "</table>\n",
              "</div>"
            ],
            "text/plain": [
              "   gercek_y  tahmin_edilen_y      hata  hata_kareleri\n",
              "0      22.1        17.970775  4.129225      17.050503\n",
              "1      10.4         9.147974  1.252026       1.567569\n",
              "2       9.3         7.850224  1.449776       2.101851\n",
              "3      18.5        14.234395  4.265605      18.195390\n",
              "4      12.9        15.627218 -2.727218       7.437719\n",
              "5       7.2         7.446162 -0.246162       0.060596\n",
              "6      11.8         9.765950  2.034050       4.137358\n",
              "7      13.2        12.746498  0.453502       0.205664\n",
              "8       4.8         7.441409 -2.641409       6.977040\n",
              "9      10.6        16.530414 -5.930414      35.169814"
            ]
          },
          "metadata": {
            "tags": []
          },
          "execution_count": 106
        }
      ]
    },
    {
      "cell_type": "code",
      "metadata": {
        "colab": {
          "base_uri": "https://localhost:8080/"
        },
        "id": "SWffzF3dqFvl",
        "outputId": "1873e8eb-388a-4032-a047-baf636536f9b"
      },
      "source": [
        "np.mean(hatalar[\"hata_kareleri\"]) #hata kareler ortalaması(Seçtiğimiz on değerde) hesaplıyoruz."
      ],
      "execution_count": null,
      "outputs": [
        {
          "output_type": "execute_result",
          "data": {
            "text/plain": [
              "9.290350329638102"
            ]
          },
          "metadata": {
            "tags": []
          },
          "execution_count": 108
        }
      ]
    },
    {
      "cell_type": "code",
      "metadata": {
        "id": "5cJ9x2MNrXsQ"
      },
      "source": [
        ""
      ],
      "execution_count": null,
      "outputs": []
    }
  ]
}